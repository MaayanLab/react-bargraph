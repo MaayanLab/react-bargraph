{
 "cells": [
  {
   "cell_type": "code",
   "execution_count": 7,
   "id": "07b776b6",
   "metadata": {},
   "outputs": [],
   "source": [
    "import json\n",
    "from react_bargraph import ReactBarGraph"
   ]
  },
  {
   "cell_type": "code",
   "execution_count": 8,
   "id": "a7c20c6e",
   "metadata": {},
   "outputs": [
    {
     "data": {
      "text/html": [
       "\n",
       "<div id=\"0babe113-2d28-4574-8e99-ce09967513aa\"></div>\n",
       "<script>\n",
       "require(['react_bargraph'], function (react_bargraph) {\n",
       "  try {\n",
       "    var self = document.getElementById('0babe113-2d28-4574-8e99-ce09967513aa')\n",
       "    while (self.children.length > 0) self.children[0].remove()\n",
       "    react_bargraph.ReactBarGraph(\n",
       "      self,\n",
       "      {\"horizontalOrientationXaxis\": \"Score\", \"horizontalOrientationYaxis\": \"Tissue\", \"orientation\": \"horizontal\", \"gradient\": false, \"title\": \"Demo React Bar Graph\", \"data\": [{\"id\": \"2\", \"score\": 3.8544866155520627}, {\"id\": \"1\", \"score\": 3.707797110815793}, {\"id\": \"0\", \"score\": 3.646778349483127}]}\n",
       "    )\n",
       "  } catch (e) {\n",
       "    console.error(e)\n",
       "    var self = document.getElementById('0babe113-2d28-4574-8e99-ce09967513aa')\n",
       "    self.innerHTML = '<b style=\"color:red\">' + e + '</b>'\n",
       "  }\n",
       "}, function (e) {\n",
       "  console.error(e)\n",
       "  var self = document.getElementById('0babe113-2d28-4574-8e99-ce09967513aa')\n",
       "  self.innerHTML = '<b style=\"color:red\">' + e + '</b>'\n",
       "})\n",
       "</script>\n"
      ],
      "text/plain": [
       "<IPython.core.display.HTML object>"
      ]
     },
     "execution_count": 8,
     "metadata": {},
     "output_type": "execute_result"
    }
   ],
   "source": [
    "# style={ReactBarGraphStyle} gradient={true} title={\"Demo React Bar Graph\"} horizontalOrientationXaxis={\"Score\"} horizontalOrientationYaxis={\"Tissue\"} orientation={\"horizontal\"} palette={palette} data={demo}\n",
    "\n",
    "# style\n",
    "gradient = False\n",
    "title = \"Demo React Bar Graph\"\n",
    "horizontalOrientationXaxis = \"Score\"\n",
    "horizontalOrientationYaxis = \"Tissue\"\n",
    "orientation = \"horizontal\"\n",
    "# palette = \n",
    "data = [ \n",
    "    {\n",
    "        \"id\": \"2\",\n",
    "        \"score\": 3.8544866155520627\n",
    "    },\n",
    "    {\n",
    "        \"id\": \"1\",\n",
    "        \"score\": 3.707797110815793\n",
    "    }\n",
    "]\n",
    "\n",
    "# with open('smallDemo.json') as json_file:\n",
    "#     data = json.load(json_file)\n",
    "#     print(data)\n",
    "\n",
    "ReactBarGraph(horizontalOrientationXaxis=horizontalOrientationXaxis, horizontalOrientationYaxis=horizontalOrientationYaxis, orientation=orientation, gradient=gradient, title=title, data=data)"
   ]
  },
  {
   "cell_type": "code",
   "execution_count": null,
   "id": "dcce6788",
   "metadata": {},
   "outputs": [],
   "source": []
  }
 ],
 "metadata": {
  "kernelspec": {
   "display_name": "Python 3",
   "language": "python",
   "name": "python3"
  },
  "language_info": {
   "codemirror_mode": {
    "name": "ipython",
    "version": 3
   },
   "file_extension": ".py",
   "mimetype": "text/x-python",
   "name": "python",
   "nbconvert_exporter": "python",
   "pygments_lexer": "ipython3",
   "version": "3.10.4"
  }
 },
 "nbformat": 4,
 "nbformat_minor": 5
}
